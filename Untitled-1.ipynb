{
 "cells": [
  {
   "cell_type": "code",
   "id": "4797c197",
   "metadata": {
    "ExecuteTime": {
     "end_time": "2025-10-06T12:39:28.573575Z",
     "start_time": "2025-10-06T12:39:28.564423Z"
    }
   },
   "source": [
    "import pandas as pd\n",
    "\n",
    "df = pd.read_csv('boaviztapi/data/electricity/eic_codes.csv')"
   ],
   "outputs": [],
   "execution_count": 11
  },
  {
   "metadata": {
    "ExecuteTime": {
     "end_time": "2025-10-06T13:21:36.532241Z",
     "start_time": "2025-10-06T13:21:36.525238Z"
    }
   },
   "cell_type": "code",
   "source": [
    "from datetime import datetime, timezone\n",
    "\n",
    "periodStart = datetime.now(timezone.utc).replace(minute=0)\n",
    "hour = periodStart.hour\n",
    "periodEnd = datetime.now(timezone.utc).replace(minute=0, hour=hour + 1)\n",
    "\n",
    "periodStart = periodStart.strftime(\"%Y%m%d%H%M\") # yyyyMMddHHmm e.g. 202509061200\n",
    "periodEnd = periodEnd.strftime(\"%Y%m%d%H%M\")\n",
    "print(periodStart, periodEnd)"
   ],
   "id": "b070fe0cf3c91d78",
   "outputs": [
    {
     "name": "stdout",
     "output_type": "stream",
     "text": [
      "202510061300 202510061400\n"
     ]
    }
   ],
   "execution_count": 31
  }
 ],
 "metadata": {
  "language_info": {
   "name": "python"
  },
  "kernelspec": {
   "name": "python3",
   "language": "python",
   "display_name": "Python 3 (ipykernel)"
  }
 },
 "nbformat": 4,
 "nbformat_minor": 5
}
